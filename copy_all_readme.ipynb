{
 "cells": [
  {
   "cell_type": "code",
   "execution_count": 17,
   "metadata": {},
   "outputs": [
    {
     "name": "stdout",
     "output_type": "stream",
     "text": [
      "./day3/C1\n",
      "./day3/C3\n",
      "./day3/C4\n",
      "./day3/C2\n",
      "./day2/C1\n",
      "./day2/C4\n",
      "./day2/C2\n",
      "./day1/C3\n",
      "./day1/C4\n",
      "./day1/C2\n"
     ]
    }
   ],
   "source": [
    "import os\n",
    "from shutil import copyfile \n",
    "\n",
    "listdir = os.listdir('.')\n",
    "\n",
    "def explore(folder): \n",
    "    listdir = os.listdir(folder)\n",
    "    for f in listdir:\n",
    "        if '.' not in f:\n",
    "            explore(os.path.join(folder,f))\n",
    "            \n",
    "            \n",
    "    if not listdir: \n",
    "        print(folder)\n",
    "        copyfile('README.md',os.path.join(folder,'README.md'))\n",
    "    \n",
    "explore('.')\n",
    "\n",
    "        "
   ]
  },
  {
   "cell_type": "code",
   "execution_count": 16,
   "metadata": {},
   "outputs": [],
   "source": [
    "copyfile?"
   ]
  },
  {
   "cell_type": "code",
   "execution_count": null,
   "metadata": {},
   "outputs": [],
   "source": []
  }
 ],
 "metadata": {
  "kernelspec": {
   "display_name": "Python 3",
   "language": "python",
   "name": "python3"
  },
  "language_info": {
   "codemirror_mode": {
    "name": "ipython",
    "version": 3
   },
   "file_extension": ".py",
   "mimetype": "text/x-python",
   "name": "python",
   "nbconvert_exporter": "python",
   "pygments_lexer": "ipython3",
   "version": "3.6.5"
  }
 },
 "nbformat": 4,
 "nbformat_minor": 2
}
